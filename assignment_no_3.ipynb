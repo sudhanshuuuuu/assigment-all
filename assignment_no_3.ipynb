{
  "nbformat": 4,
  "nbformat_minor": 0,
  "metadata": {
    "colab": {
      "provenance": []
    },
    "kernelspec": {
      "name": "python3",
      "display_name": "Python 3"
    },
    "language_info": {
      "name": "python"
    }
  },
  "cells": [
    {
      "cell_type": "code",
      "execution_count": null,
      "metadata": {
        "id": "h8yB5fAGTKei"
      },
      "outputs": [],
      "source": [
        "import numpy as np\n",
        "# Load data from the CSV file\n",
        "array3 = np.loadtxt(\"//content//549//testmarks1.csv\", delimiter=',',\n",
        "skiprows=1)\n",
        "print(array3)\n",
        "# Extract columns EDS and SON from the loaded array\n",
        "EDS = array3[:, 1]\n",
        "SON = array3[:, 2]\n",
        "DT = array3[:,3]\n",
        "ET = array3[:,4]\n",
        "print(\"DT =\",DT)\n",
        "print(\"ET=\",ET)\n",
        "print(\"EDS =\", EDS)\n",
        "print(\"SON =\", SON)\n",
        "max_index = np.argmax(EDS)\n",
        "max_roll_number = array3[max_index, 0]\n",
        "max_mark = EDS[max_index]\n",
        "print(\"Max EDS:\", max_mark)\n",
        "print(\"Roll Number of Max EDS:\", max_roll_number)\n",
        "print(\"Type of EDS:\", EDS.dtype) # Changed type() to dtype\n",
        "# Uncomment the following line if you want to convert EDS to float\n",
        "# EDS = EDS.astype(float)\n",
        "print(\"Max EDS:\", np.max(EDS))\n",
        "# Matrix operations\n",
        "array_sum = np.sum(array3)\n",
        "array_mean = np.mean(array3)\n",
        "array_median = np.median(array3)\n",
        "array_transpose = np.transpose(array3)\n",
        "print(\"Sum of all elements:\", array_sum)\n",
        "print(\"Mean of all elements:\", array_mean)\n",
        "print(\"Median of all elements:\", array_median)\n",
        "print(\"Transposed array:\\n\", array_transpose)\n",
        "# Horizontal and vertical stacking of arrays\n",
        "stacked_horizontal = np.hstack((EDS[:, np.newaxis], SON[:,\n",
        "np.newaxis])) # Added np.newaxis to make EDS and SON 2D arrays\n",
        "stacked_vertical = np.vstack((EDS, SON))\n",
        "print(\"Horizontally stacked array:\\n\", stacked_horizontal)\n",
        "print(\"Vertically stacked array:\\n\", stacked_vertical)\n",
        "# Custom sequence generation\n",
        "custom_sequence = np.arange(0, 10, 2) # Generates numbers from 0 to 10\n",
        "(exclusive) with a step of 2\n",
        "print(\"Custom sequence:\", custom_sequence)\n",
        "# Arithmetic and Statistical Operations\n",
        "array_sum = np.sum(array3)\n",
        "array_mean = np.mean(array3)\n",
        "array_std = np.std(array3)\n",
        "array_min = np.min(array3)\n",
        "array_max = np.max(array3)\n",
        "array_sort=np.sort(array3)\n",
        "array_search=np.searchsorted(array_sort[:,0],5)\n",
        "print(\"Sum of array3:\", array_sum)\n",
        "print(\"Mean of array3:\", array_mean)\n",
        "print(\"Standard deviation of array3:\", array_std)\n",
        "print(\"Minimum value in array3:\", array_min)\n",
        "print(\"Maximum value in array3:\", array_max)\n",
        "print(\"The sort array\",array_sort)\n",
        "print(\"the index for value 5\",array_search)\n",
        "# Mathematical Operations\n",
        "array_square = np.square(array3)\n",
        "array_sqrt = np.sqrt(array3)\n",
        "array_log = np.log(array3)\n",
        "print(\"Squared array:\\n\", array_square)\n",
        "print(\"Square root of array:\\n\", array_sqrt)\n",
        "print(\"Logarithm of array:\\n\", array_log)\n",
        "# Copying and viewing arrays\n",
        "array_copy = np.copy(array3)\n",
        "array_view = array3.view()\n",
        "print(\"Copied array:\\n\", array_copy)\n",
        "print(\"View of array:\\n\", array_view)\n"
      ]
    }
  ]
}