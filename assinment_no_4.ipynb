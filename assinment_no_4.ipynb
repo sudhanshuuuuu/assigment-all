{
  "nbformat": 4,
  "nbformat_minor": 0,
  "metadata": {
    "colab": {
      "provenance": []
    },
    "kernelspec": {
      "name": "python3",
      "display_name": "Python 3"
    },
    "language_info": {
      "name": "python"
    }
  },
  "cells": [
    {
      "cell_type": "code",
      "execution_count": null,
      "metadata": {
        "id": "56qEAPTme5Zt"
      },
      "outputs": [],
      "source": [
        "import pandas as pd\n",
        "import itertools\n",
        "# Read the CSV file into a DataFrame\n",
        "df = pd.read_csv(\"/content/549/grainsales.csv\")\n",
        "# Display the DataFrame\n",
        "print(df)\n",
        "# 1Group by month and calculate total sales\n",
        "monthly_sales = df.groupby('Months')['Sales'].sum()\n",
        "# 2Find the month with the highest sales\n",
        "best_month = monthly_sales.idxmax()\n",
        "# 3Calculate the earnings for the best month\n",
        "earnings = monthly_sales.max()\n",
        "# Print the result\n",
        "print(\"The best month for sales was\", best_month, \"with earnings of\",\n",
        "earnings)\n",
        "# Group by grain and calculate total sales\n",
        "grain_sales = df.groupby('GrainName')['Sales'].sum()\n",
        "# Find the grain with the highest sales\n",
        "best_selling_grain = grain_sales.idxmax()\n",
        "# Print the result\n",
        "print(\"The product that sold the most was\", best_selling_grain)\n",
        "# Group by city and calculate total number of products sold\n",
        "city_sales = df.groupby('City').size()\n",
        "# Find the city with the highest sales\n",
        "best_selling_city = city_sales.idxmax()\n",
        "# Print the result\n",
        "print(\"The city that sold the most products was\", best_selling_city)\n",
        "#find the with lowest sales\n",
        "earnings=monthly_sales.min()\n",
        "least_month=monthly_sales.idxmin()\n",
        "print(\"the least month for sale was\",least_month,\"with\n",
        "earning\",earnings)\n",
        "#Find the grain with the highest sales\n",
        "best_selling_grain = grain_sales.idxmin()\n",
        "# Print the result\n",
        "print(\"The product that not sold the most was\", best_selling_grain)\n",
        "# Products that are most often sold together\n",
        "product_combinations = df.groupby('City')['GrainName'].apply(lambda x:\n",
        "list(itertools.combinations(x, 2)))\n",
        "# Count the frequency of product combinations\n",
        "product_combinations_count =\n",
        "pd.Series(list(itertools.chain(*product_combinations))).value_counts()\n",
        "# Get the most frequently sold product combinations\n",
        "most_sold_combinations = product_combinations_count.head(5) # You can\n",
        "change the number as desired\n",
        "print(\"\\nProducts most often sold together:\")\n",
        "for combination, count in most_sold_combinations.items():\n",
        "print(combination, \": Sold together\", count, \"times\")\n"
      ]
    }
  ]
}