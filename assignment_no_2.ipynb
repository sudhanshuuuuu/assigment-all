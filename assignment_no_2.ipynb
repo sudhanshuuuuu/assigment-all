{
  "nbformat": 4,
  "nbformat_minor": 0,
  "metadata": {
    "colab": {
      "provenance": []
    },
    "kernelspec": {
      "name": "python3",
      "display_name": "Python 3"
    },
    "language_info": {
      "name": "python"
    }
  },
  "cells": [
    {
      "cell_type": "code",
      "execution_count": null,
      "metadata": {
        "id": "Sb_OEpuuQ6ZW"
      },
      "outputs": [],
      "source": [
        "from collections import Counter\n",
        "f1 = open(\"D:\\\\549_dhiraj\\\\sales.csv\",\"r\")\n",
        "product_details = [ ]\n",
        "customer_details = [ ]\n",
        "supplier_details = { }\n",
        "supplist = [ ]\n",
        "gender = [ ]\n",
        "while(True):\n",
        " data = f1.readline()\n",
        " if not data:\n",
        " break;\n",
        " data = data.replace(\"\\n\",\"\")\n",
        " temp = data.split(\",\")\n",
        " print(temp)\n",
        " product_details.append(temp[1])\n",
        " customer_details.append(temp[3]) # type: ignore\n",
        " supplier_details.update({temp[1]:temp[2]})\n",
        " supplist.append(temp[2])\n",
        " gender.append(temp[4])\n",
        "f1.close()\n",
        "customer_details = tuple(customer_details)\n",
        "frequency = { }\n",
        "for items in product_details:\n",
        " if items in frequency:\n",
        " frequency[items]+=1\n",
        " else:\n",
        " frequency[items]=1\n",
        "marklist = sorted(frequency.items(),key = lambda x:\n",
        "x[1],reverse = True)\n",
        "print(f\"Most Poppular Item is : {marklist[0][0]}\")\n",
        "supplierList = list(supplier_details.items())\n",
        "CounterDict = Counter(supplist)\n",
        "poplist = sorted(CounterDict.items(),key = lambda x : x[1],\n",
        "reverse = True)\n",
        "poplist = list(poplist)\n",
        "print(f\"Best Supplier is: {poplist[0][0]}\")\n",
        "CountCustomer = Counter(customer_details)\n",
        "CustomerCountList = sorted(CountCustomer.items(),key =\n",
        "lambda x: x[1], reverse = True)\n",
        "CustomerCountList = list(CustomerCountList)\n",
        "print(f\"Customer Who Bought Most Products is:{CustomerCountList[0][0]}\")\n",
        "countGender = Counter(gender)\n",
        "a = (countGender.get(\"Female\"))\n",
        "print(f\"No of Females are: {a}\")"
      ]
    }
  ]
}